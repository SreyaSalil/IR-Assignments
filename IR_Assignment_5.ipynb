{
  "nbformat": 4,
  "nbformat_minor": 0,
  "metadata": {
    "kernelspec": {
      "display_name": "Python 3",
      "language": "python",
      "name": "python3"
    },
    "language_info": {
      "codemirror_mode": {
        "name": "ipython",
        "version": 3
      },
      "file_extension": ".py",
      "mimetype": "text/x-python",
      "name": "python",
      "nbconvert_exporter": "python",
      "pygments_lexer": "ipython3",
      "version": "3.7.6"
    },
    "colab": {
      "name": "IR Assignment 5.ipynb",
      "provenance": [],
      "include_colab_link": true
    }
  },
  "cells": [
    {
      "cell_type": "markdown",
      "metadata": {
        "id": "view-in-github",
        "colab_type": "text"
      },
      "source": [
        "<a href=\"https://colab.research.google.com/github/SreyaSalil/IR-Assignments/blob/main/IR_Assignment_5.ipynb\" target=\"_parent\"><img src=\"https://colab.research.google.com/assets/colab-badge.svg\" alt=\"Open In Colab\"/></a>"
      ]
    },
    {
      "cell_type": "markdown",
      "metadata": {
        "id": "rMiiFaxLWoGB"
      },
      "source": [
        "# IR Assignment 5\n",
        "\n"
      ]
    },
    {
      "cell_type": "markdown",
      "metadata": {
        "id": "5Yo3MAukXN1A"
      },
      "source": [
        "*Implementation of various evaluation measures:*\n",
        "\n",
        "\n",
        "*   *Calculate recall and precision values for all relevant documents and draw precision vs recall curve. Also claculate R-precision*\n",
        "*   *Compare performance of two IR algorithms for the same query q*\n",
        "\n",
        "*   *Calculate harmonic mean and E-measure (All three cases b=1, b>1, b<1)*\n"
      ]
    },
    {
      "cell_type": "markdown",
      "metadata": {
        "id": "ZF6N-7pDYsR2"
      },
      "source": [
        "## Import Packages"
      ]
    },
    {
      "cell_type": "code",
      "metadata": {
        "id": "XVJQVrlVWTXj"
      },
      "source": [
        "import numpy as np\n",
        "import matplotlib.pyplot as plt\n",
        "import pandas as pd\n",
        "from matplotlib.ticker import PercentFormatter\n",
        "import random"
      ],
      "execution_count": 20,
      "outputs": []
    },
    {
      "cell_type": "markdown",
      "metadata": {
        "id": "t-dE9M4BWTXn"
      },
      "source": [
        "## Calculating recall and precision values for all relevant documents and drawing precision vs Recall Curve. Also finding R-precision."
      ]
    },
    {
      "cell_type": "code",
      "metadata": {
        "id": "iA93gvAgWTXo"
      },
      "source": [
        "def precision_vs_recall(Rq,Aq):\n",
        "    pvr = {}\n",
        "    R_precision = 0\n",
        "    r,lRq = 0,len(Rq)\n",
        "    pvr[\"doc\"] = []\n",
        "    pvr[\"recall\"] = []\n",
        "    pvr[\"precision\"] = []\n",
        "    for i in range(len(Aq)):\n",
        "        item = Aq[i]\n",
        "        if item in Rq:\n",
        "            pvr[\"doc\"].append(item)\n",
        "            r+=1\n",
        "            pvr[\"recall\"].append(r/lRq)\n",
        "            pvr[\"precision\"].append(r/(i+1))\n",
        "        if i+1==lRq:\n",
        "            R_precision = len(pvr[\"precision\"])/lRq\n",
        "    return pvr,R_precision\n",
        "\n",
        "def print_result(data):\n",
        "    df = pd.DataFrame(data)\n",
        "    df = df.set_index(df.columns[0])\n",
        "    print(df)\n",
        "    return df\n",
        "\n",
        "def get_precision_at_standard_11_recall_levels(data):\n",
        "    \n",
        "    recall = [0]\n",
        "    precision = [data[\"precision\"][0]]\n",
        "\n",
        "    for i in np.arange(0.1,1.1,0.1):\n",
        "        \n",
        "        i = round(i,1)\n",
        "        \n",
        "        recall.append(i)\n",
        "        if len(data[\"recall\"])==0:\n",
        "            precision.append(0)\n",
        "        \n",
        "        else:\n",
        "            if data[\"recall\"][0]>i:\n",
        "                precision.append(data[\"precision\"][0])\n",
        "                \n",
        "            elif data[\"recall\"][0]==i:\n",
        "                precision.append(data[\"precision\"][0])\n",
        "                data[\"recall\"].pop(0)\n",
        "                data[\"precision\"].pop(0)\n",
        "                \n",
        "            else:\n",
        "                data[\"recall\"].pop(0)\n",
        "                data[\"precision\"].pop(0)\n",
        "                precision.append(data[\"precision\"][0])\n",
        "           \n",
        "    return recall,precision\n",
        "    \n",
        "    \n",
        "def plot_graph(recall,precision):\n",
        "    plt.plot(recall,precision,\"bo-\")\n",
        "    plt.xlim(0,1.2)\n",
        "    plt.ylim(0,1.2)\n",
        "    plt.xlabel(\"Recall\")\n",
        "    plt.ylabel(\"Precision\")\n",
        "    plt.title(\"Precision at 11 standard recall levels\")\n",
        "    plt.gca().xaxis.set_major_formatter(PercentFormatter(1))\n",
        "    plt.gca().yaxis.set_major_formatter(PercentFormatter(1))\n",
        "    plt.show()"
      ],
      "execution_count": 21,
      "outputs": []
    },
    {
      "cell_type": "markdown",
      "metadata": {
        "id": "WuPUA9EZWTXp"
      },
      "source": [
        "### Example 1"
      ]
    },
    {
      "cell_type": "code",
      "metadata": {
        "id": "7S0aYpxmWTXq"
      },
      "source": [
        "Rq_1=[\"d3\",\"d5\",\"d9\",\"d25\",\"d39\",\"d44\",\"d56\",\"d71\",\"d89\",\"d123\"]\n",
        "Aq_1=[\"d123\",\"d84\",\"d56\",\"d6\",\"d8\",\"d9\",\"d511\",\"d129\",\"d187\",\"d25\",\"d38\",\"d48\",\"d250\",\"d113\",\"d3\"]"
      ],
      "execution_count": 22,
      "outputs": []
    },
    {
      "cell_type": "code",
      "metadata": {
        "colab": {
          "base_uri": "https://localhost:8080/"
        },
        "id": "SJ1vztQIWTXq",
        "outputId": "b4b32254-829a-4624-a2a7-94aabd402580"
      },
      "source": [
        "res_pvr,r_precision = precision_vs_recall(Rq_1,Aq_1) \n",
        "result = print_result(res_pvr)"
      ],
      "execution_count": 23,
      "outputs": [
        {
          "output_type": "stream",
          "text": [
            "      recall  precision\n",
            "doc                    \n",
            "d123     0.1   1.000000\n",
            "d56      0.2   0.666667\n",
            "d9       0.3   0.500000\n",
            "d25      0.4   0.400000\n",
            "d3       0.5   0.333333\n"
          ],
          "name": "stdout"
        }
      ]
    },
    {
      "cell_type": "code",
      "metadata": {
        "colab": {
          "base_uri": "https://localhost:8080/",
          "height": 295
        },
        "id": "gyFFv9INWTXr",
        "outputId": "421ec84e-efad-4d1e-d16e-cbfe0bae5b22"
      },
      "source": [
        "recall,precision = get_precision_at_standard_11_recall_levels(res_pvr)      \n",
        "plot_graph(recall,precision)"
      ],
      "execution_count": 24,
      "outputs": [
        {
          "output_type": "display_data",
          "data": {
            "image/png": "[encoded data removed]",
            "text/plain": [
              "<Figure size 432x288 with 1 Axes>"
            ]
          },
          "metadata": {
            "tags": [],
            "needs_background": "light"
          }
        }
      ]
    },
    {
      "cell_type": "code",
      "metadata": {
        "colab": {
          "base_uri": "https://localhost:8080/"
        },
        "id": "NXmNgfOoWTXs",
        "outputId": "e9c9699f-8697-478f-b4e2-5395270b3988"
      },
      "source": [
        "print(\"R-Precision : \",r_precision)"
      ],
      "execution_count": 25,
      "outputs": [
        {
          "output_type": "stream",
          "text": [
            "R-Precision :  0.4\n"
          ],
          "name": "stdout"
        }
      ]
    },
    {
      "cell_type": "markdown",
      "metadata": {
        "id": "9rqAFMPxWTXt"
      },
      "source": [
        "### Example 2"
      ]
    },
    {
      "cell_type": "code",
      "metadata": {
        "id": "5Pa_PET-WTXt"
      },
      "source": [
        "Rq_2=[\"d3\",\"d56\",\"d129\"]\n",
        "Aq_2=[\"d123\",\"d84\",\"d56\",\"d6\",\"d8\",\"d9\",\"d511\",\"d129\",\"d187\",\"d25\",\"d38\",\"d48\",\"d250\",\"d113\",\"d3\"]"
      ],
      "execution_count": 26,
      "outputs": []
    },
    {
      "cell_type": "code",
      "metadata": {
        "colab": {
          "base_uri": "https://localhost:8080/"
        },
        "id": "RNmrra-XWTXu",
        "outputId": "564a0b98-3791-4ccb-b7f0-b20f74b0501a"
      },
      "source": [
        "res_pvr_1,r_precision_1 = precision_vs_recall(Rq_2,Aq_2) \n",
        "result_1 = print_result(res_pvr_1)"
      ],
      "execution_count": 27,
      "outputs": [
        {
          "output_type": "stream",
          "text": [
            "        recall  precision\n",
            "doc                      \n",
            "d56   0.333333   0.333333\n",
            "d129  0.666667   0.250000\n",
            "d3    1.000000   0.200000\n"
          ],
          "name": "stdout"
        }
      ]
    },
    {
      "cell_type": "code",
      "metadata": {
        "colab": {
          "base_uri": "https://localhost:8080/",
          "height": 295
        },
        "id": "C5bv3neeWTXu",
        "outputId": "71df6a74-857c-482e-dcc2-b433999282c4"
      },
      "source": [
        "recall,precision = get_precision_at_standard_11_recall_levels(res_pvr_1)\n",
        "plot_graph(recall,precision)"
      ],
      "execution_count": 28,
      "outputs": [
        {
          "output_type": "display_data",
          "data": {
            "image/png": "[encoded data removed]",
            "text/plain": [
              "<Figure size 432x288 with 1 Axes>"
            ]
          },
          "metadata": {
            "tags": [],
            "needs_background": "light"
          }
        }
      ]
    },
    {
      "cell_type": "code",
      "metadata": {
        "colab": {
          "base_uri": "https://localhost:8080/"
        },
        "id": "jhBhnyQgWTXv",
        "outputId": "ba7cdccf-e545-4124-a3e0-ccb080e69f4b"
      },
      "source": [
        "print(\"R-Precision : \",r_precision_1)"
      ],
      "execution_count": 29,
      "outputs": [
        {
          "output_type": "stream",
          "text": [
            "R-Precision :  0.3333333333333333\n"
          ],
          "name": "stdout"
        }
      ]
    },
    {
      "cell_type": "markdown",
      "metadata": {
        "id": "14jYvBdjWTXv"
      },
      "source": [
        "##Comparing two algorithms for the same query q"
      ]
    },
    {
      "cell_type": "code",
      "metadata": {
        "id": "lOGEF_xkWTXw"
      },
      "source": [
        "def get_r_precision(Rq,Aq):\n",
        "    r_prec = []\n",
        "    for rq,aq in zip(Rq,Aq):\n",
        "        counter = 0\n",
        "        len_rq = len(rq)\n",
        "        for i in range(len_rq):\n",
        "            item = aq[i]\n",
        "            if item in rq:\n",
        "                counter+=1\n",
        "        r_prec.append(counter/len_rq)\n",
        "    return r_prec"
      ],
      "execution_count": 30,
      "outputs": []
    },
    {
      "cell_type": "code",
      "metadata": {
        "id": "WA1YObNvWTXw"
      },
      "source": [
        "docs = [\"d\"+str(i) for i in range(1,21)]\n",
        "\n",
        "Rq_for_10_queries, Aq_for_algo_A, Aq_for_algo_B = [],[],[]\n",
        "\n",
        "# Generating n relavent documents for a given query\n",
        "for _ in range(10):\n",
        "    n = random.randint(6,9)\n",
        "    li = random.sample(docs,n)\n",
        "    Rq_for_10_queries.append(li)\n",
        "    \n",
        "# Generating n documents retrieved by Algoritm A for a given query\n",
        "for _ in range(10):\n",
        "    n = random.randint(13,18)\n",
        "    li = random.sample(docs,n)\n",
        "    Aq_for_algo_A.append(li)\n",
        "    \n",
        "# Generating n documents retrieved by Algoritm B for a given query\n",
        "for _ in range(10):\n",
        "    n = random.randint(13,18)\n",
        "    li = random.sample(docs,n)\n",
        "    Aq_for_algo_B.append(li)\n",
        "    \n",
        "qno = list(range(1,11))"
      ],
      "execution_count": 31,
      "outputs": []
    },
    {
      "cell_type": "code",
      "metadata": {
        "id": "h8WJwfsNWTXx"
      },
      "source": [
        "RP_A = get_r_precision(Rq_for_10_queries,Aq_for_algo_A)\n",
        "RP_B = get_r_precision(Rq_for_10_queries,Aq_for_algo_B)\n",
        "RP_AB = [A-B for A,B in zip(RP_A,RP_B)]"
      ],
      "execution_count": 32,
      "outputs": []
    },
    {
      "cell_type": "code",
      "metadata": {
        "colab": {
          "base_uri": "https://localhost:8080/",
          "height": 295
        },
        "id": "RXLpJ0lsWTXx",
        "outputId": "0b9341b0-8599-4e9d-d2fd-783813a24326"
      },
      "source": [
        "plt.bar(qno,RP_AB,color=\"blue\",width=0.7)\n",
        "plt.xticks(qno)\n",
        "plt.axhline(y = 0, color=\"black\",linestyle = '-')\n",
        "plt.xlabel(\"Query Number\")\n",
        "plt.ylabel(\"R Precision A-B\")\n",
        "plt.title(\"Precision Histogram\")\n",
        "plt.ylim(-1.5,1.5)\n",
        "plt.show()"
      ],
      "execution_count": 33,
      "outputs": [
        {
          "output_type": "display_data",
          "data": {
            "image/png": "[encoded data removed]",
            "text/plain": [
              "<Figure size 432x288 with 1 Axes>"
            ]
          },
          "metadata": {
            "tags": [],
            "needs_background": "light"
          }
        }
      ]
    },
    {
      "cell_type": "markdown",
      "metadata": {
        "id": "GipD3PfsWTXy"
      },
      "source": [
        "##Calculating Harmonic mean and E - measure for all 3 cases"
      ]
    },
    {
      "cell_type": "code",
      "metadata": {
        "id": "8ZZ3hi5pWTXy"
      },
      "source": [
        "def harmonic_mean(data):\n",
        "    F = 2/(1/data[\"recall\"]+1/data[\"precision\"])\n",
        "    return F\n",
        "\n",
        "def e_measure(data,b):\n",
        "    E = 1-((1+b**2)/(b**2/data[\"recall\"] + 1/data[\"precision\"]))\n",
        "    return E "
      ],
      "execution_count": 34,
      "outputs": []
    },
    {
      "cell_type": "markdown",
      "metadata": {
        "id": "dPEy0JTMWTXy"
      },
      "source": [
        "### Example 1"
      ]
    },
    {
      "cell_type": "code",
      "metadata": {
        "id": "9OUObhuvWTXz"
      },
      "source": [
        "res_copy = result.copy()\n",
        "result[\"harmonic_mean\"] = harmonic_mean(res_copy)\n",
        "result[\"e_measure(b=1)\"] = e_measure(res_copy,1) #b=1\n",
        "result[\"e_measure(b=2)\"] = e_measure(res_copy,2) #b>1\n",
        "result[\"e_measure(b=0.5)\"] = e_measure(res_copy,0.5) #b<1"
      ],
      "execution_count": 35,
      "outputs": []
    },
    {
      "cell_type": "code",
      "metadata": {
        "colab": {
          "base_uri": "https://localhost:8080/",
          "height": 235
        },
        "id": "mXeuMg7yWTX0",
        "outputId": "33eaa0d7-1bc7-4291-a555-9c5e7b91ca55"
      },
      "source": [
        "result"
      ],
      "execution_count": 36,
      "outputs": [
        {
          "output_type": "execute_result",
          "data": {
            "text/html": [
              "<div>\n",
              "<style scoped>\n",
              "    .dataframe tbody tr th:only-of-type {\n",
              "        vertical-align: middle;\n",
              "    }\n",
              "\n",
              "    .dataframe tbody tr th {\n",
              "        vertical-align: top;\n",
              "    }\n",
              "\n",
              "    .dataframe thead th {\n",
              "        text-align: right;\n",
              "    }\n",
              "</style>\n",
              "<table border=\"1\" class=\"dataframe\">\n",
              "  <thead>\n",
              "    <tr style=\"text-align: right;\">\n",
              "      <th></th>\n",
              "      <th>recall</th>\n",
              "      <th>precision</th>\n",
              "      <th>harmonic_mean</th>\n",
              "      <th>e_measure(b=1)</th>\n",
              "      <th>e_measure(b=2)</th>\n",
              "      <th>e_measure(b=0.5)</th>\n",
              "    </tr>\n",
              "    <tr>\n",
              "      <th>doc</th>\n",
              "      <th></th>\n",
              "      <th></th>\n",
              "      <th></th>\n",
              "      <th></th>\n",
              "      <th></th>\n",
              "      <th></th>\n",
              "    </tr>\n",
              "  </thead>\n",
              "  <tbody>\n",
              "    <tr>\n",
              "      <th>d123</th>\n",
              "      <td>0.1</td>\n",
              "      <td>1.000000</td>\n",
              "      <td>0.181818</td>\n",
              "      <td>0.818182</td>\n",
              "      <td>0.878049</td>\n",
              "      <td>0.642857</td>\n",
              "    </tr>\n",
              "    <tr>\n",
              "      <th>d56</th>\n",
              "      <td>0.2</td>\n",
              "      <td>0.666667</td>\n",
              "      <td>0.307692</td>\n",
              "      <td>0.692308</td>\n",
              "      <td>0.767442</td>\n",
              "      <td>0.545455</td>\n",
              "    </tr>\n",
              "    <tr>\n",
              "      <th>d9</th>\n",
              "      <td>0.3</td>\n",
              "      <td>0.500000</td>\n",
              "      <td>0.375000</td>\n",
              "      <td>0.625000</td>\n",
              "      <td>0.673913</td>\n",
              "      <td>0.558824</td>\n",
              "    </tr>\n",
              "    <tr>\n",
              "      <th>d25</th>\n",
              "      <td>0.4</td>\n",
              "      <td>0.400000</td>\n",
              "      <td>0.400000</td>\n",
              "      <td>0.600000</td>\n",
              "      <td>0.600000</td>\n",
              "      <td>0.600000</td>\n",
              "    </tr>\n",
              "    <tr>\n",
              "      <th>d3</th>\n",
              "      <td>0.5</td>\n",
              "      <td>0.333333</td>\n",
              "      <td>0.400000</td>\n",
              "      <td>0.600000</td>\n",
              "      <td>0.545455</td>\n",
              "      <td>0.642857</td>\n",
              "    </tr>\n",
              "  </tbody>\n",
              "</table>\n",
              "</div>"
            ],
            "text/plain": [
              "      recall  precision  ...  e_measure(b=2)  e_measure(b=0.5)\n",
              "doc                      ...                                  \n",
              "d123     0.1   1.000000  ...        0.878049          0.642857\n",
              "d56      0.2   0.666667  ...        0.767442          0.545455\n",
              "d9       0.3   0.500000  ...        0.673913          0.558824\n",
              "d25      0.4   0.400000  ...        0.600000          0.600000\n",
              "d3       0.5   0.333333  ...        0.545455          0.642857\n",
              "\n",
              "[5 rows x 6 columns]"
            ]
          },
          "metadata": {
            "tags": []
          },
          "execution_count": 36
        }
      ]
    },
    {
      "cell_type": "markdown",
      "metadata": {
        "id": "Ydfnp8OFWTX0"
      },
      "source": [
        "### Example 2"
      ]
    },
    {
      "cell_type": "code",
      "metadata": {
        "id": "zXFqe7I5WTX0"
      },
      "source": [
        "res_copy = result_1.copy()\n",
        "result_1[\"harmonic_mean\"] = harmonic_mean(res_copy)\n",
        "result_1[\"e_measure(b=1)\"] = e_measure(res_copy,1)\n",
        "result_1[\"e_measure(b=2)\"] = e_measure(res_copy,2)\n",
        "result_1[\"e_measure(b=0.5)\"] = e_measure(res_copy,0.5)"
      ],
      "execution_count": 37,
      "outputs": []
    },
    {
      "cell_type": "code",
      "metadata": {
        "colab": {
          "base_uri": "https://localhost:8080/",
          "height": 173
        },
        "id": "gBguwPtfWTX1",
        "outputId": "3d79cf35-296d-4885-bb07-bb5ef0874f2e"
      },
      "source": [
        "result_1"
      ],
      "execution_count": 38,
      "outputs": [
        {
          "output_type": "execute_result",
          "data": {
            "text/html": [
              "<div>\n",
              "<style scoped>\n",
              "    .dataframe tbody tr th:only-of-type {\n",
              "        vertical-align: middle;\n",
              "    }\n",
              "\n",
              "    .dataframe tbody tr th {\n",
              "        vertical-align: top;\n",
              "    }\n",
              "\n",
              "    .dataframe thead th {\n",
              "        text-align: right;\n",
              "    }\n",
              "</style>\n",
              "<table border=\"1\" class=\"dataframe\">\n",
              "  <thead>\n",
              "    <tr style=\"text-align: right;\">\n",
              "      <th></th>\n",
              "      <th>recall</th>\n",
              "      <th>precision</th>\n",
              "      <th>harmonic_mean</th>\n",
              "      <th>e_measure(b=1)</th>\n",
              "      <th>e_measure(b=2)</th>\n",
              "      <th>e_measure(b=0.5)</th>\n",
              "    </tr>\n",
              "    <tr>\n",
              "      <th>doc</th>\n",
              "      <th></th>\n",
              "      <th></th>\n",
              "      <th></th>\n",
              "      <th></th>\n",
              "      <th></th>\n",
              "      <th></th>\n",
              "    </tr>\n",
              "  </thead>\n",
              "  <tbody>\n",
              "    <tr>\n",
              "      <th>d56</th>\n",
              "      <td>0.333333</td>\n",
              "      <td>0.333333</td>\n",
              "      <td>0.333333</td>\n",
              "      <td>0.666667</td>\n",
              "      <td>0.666667</td>\n",
              "      <td>0.666667</td>\n",
              "    </tr>\n",
              "    <tr>\n",
              "      <th>d129</th>\n",
              "      <td>0.666667</td>\n",
              "      <td>0.250000</td>\n",
              "      <td>0.363636</td>\n",
              "      <td>0.636364</td>\n",
              "      <td>0.500000</td>\n",
              "      <td>0.714286</td>\n",
              "    </tr>\n",
              "    <tr>\n",
              "      <th>d3</th>\n",
              "      <td>1.000000</td>\n",
              "      <td>0.200000</td>\n",
              "      <td>0.333333</td>\n",
              "      <td>0.666667</td>\n",
              "      <td>0.444444</td>\n",
              "      <td>0.761905</td>\n",
              "    </tr>\n",
              "  </tbody>\n",
              "</table>\n",
              "</div>"
            ],
            "text/plain": [
              "        recall  precision  ...  e_measure(b=2)  e_measure(b=0.5)\n",
              "doc                        ...                                  \n",
              "d56   0.333333   0.333333  ...        0.666667          0.666667\n",
              "d129  0.666667   0.250000  ...        0.500000          0.714286\n",
              "d3    1.000000   0.200000  ...        0.444444          0.761905\n",
              "\n",
              "[3 rows x 6 columns]"
            ]
          },
          "metadata": {
            "tags": []
          },
          "execution_count": 38
        }
      ]
    }
  ]
}