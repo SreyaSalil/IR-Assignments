{
  "nbformat": 4,
  "nbformat_minor": 0,
  "metadata": {
    "colab": {
      "name": "Project - Image Search Engine.ipynb",
      "provenance": [],
      "authorship_tag": "ABX9TyNtzYWdGOp1agE+G6roNaIW",
      "include_colab_link": true
    },
    "kernelspec": {
      "name": "python3",
      "display_name": "Python 3"
    },
    "language_info": {
      "name": "python"
    }
  },
  "cells": [
    {
      "cell_type": "markdown",
      "metadata": {
        "id": "view-in-github",
        "colab_type": "text"
      },
      "source": [
        "<a href=\"https://colab.research.google.com/github/SreyaSalil/IR-Assignments/blob/main/Project_Image_Search_Engine.ipynb\" target=\"_parent\"><img src=\"https://colab.research.google.com/assets/colab-badge.svg\" alt=\"Open In Colab\"/></a>"
      ]
    },
    {
      "cell_type": "markdown",
      "metadata": {
        "id": "Tx5WEyTt403Y"
      },
      "source": [
        "# **Image Search Engine**\n",
        "\n",
        "*We implement an image retrieval system using Tensorflow and Numpy. The system consists of an image query and an image dataset. We input an image query, extract it's features and calculate the similarity (using Euclidean distance) with the other images in the dataset. We then display 30 images that are similar to the image query*"
      ]
    },
    {
      "cell_type": "markdown",
      "metadata": {
        "id": "1a7wPhT35L52"
      },
      "source": [
        "## Import Libraries"
      ]
    },
    {
      "cell_type": "code",
      "metadata": {
        "id": "hV2JJBHN5QHs"
      },
      "source": [
        "from tensorflow.keras.preprocessing import image\n",
        "from tensorflow.keras.applications.vgg16 import VGG16, preprocess_input\n",
        "from tensorflow.keras.models import Model\n",
        "from pathlib import Path\n",
        "from PIL import Image\n",
        "from google.colab import drive\n",
        "import matplotlib.pyplot as plt\n",
        "import numpy as np"
      ],
      "execution_count": null,
      "outputs": []
    },
    {
      "cell_type": "markdown",
      "metadata": {
        "id": "b6UEosfj8u1H"
      },
      "source": [
        "## Mount Image Database from drive"
      ]
    },
    {
      "cell_type": "code",
      "metadata": {
        "id": "tqP5WWPW8uY4"
      },
      "source": [
        "drive.mount('/content/drive')"
      ],
      "execution_count": null,
      "outputs": []
    },
    {
      "cell_type": "markdown",
      "metadata": {
        "id": "z8JSFsQV5hLe"
      },
      "source": [
        "## Feature Extractor Class"
      ]
    },
    {
      "cell_type": "code",
      "metadata": {
        "id": "bMk6j80c4rKF"
      },
      "source": [
        "class FeatureExtractor:\n",
        "    def __init__(self):\n",
        "        # Use VGG-16 as the architecture and ImageNet for the weight\n",
        "        base_model = VGG16(weights='imagenet')\n",
        "        # Customize the model to return features from fully-connected layer\n",
        "        self.model = Model(inputs=base_model.input, outputs=base_model.get_layer('fc1').output)\n",
        "    def extract(self, img):\n",
        "        # Resize the image\n",
        "        img = img.resize((224, 224))\n",
        "        # Convert the image color space\n",
        "        img = img.convert('RGB')\n",
        "        # Reformat the image\n",
        "        x = image.img_to_array(img)\n",
        "        x = np.expand_dims(x, axis=0)\n",
        "        x = preprocess_input(x)\n",
        "        # Extract Features\n",
        "        feature = self.model.predict(x)[0]\n",
        "        return feature / np.linalg.norm(feature)"
      ],
      "execution_count": null,
      "outputs": []
    },
    {
      "cell_type": "markdown",
      "metadata": {
        "id": "22joOgoK5vbO"
      },
      "source": [
        "## Iterate through images in database and extract features"
      ]
    },
    {
      "cell_type": "code",
      "metadata": {
        "id": "yvW9-3k75tPv"
      },
      "source": [
        "# Iterate through images (Change the path based on your image location)\n",
        "for img_path in sorted(\"<IMAGE DATABASE PATH LIST HERE>\"):\n",
        "    print(img_path)\n",
        "    # Extract Features\n",
        "    feature = fe.extract(img=Image.open(img_path))\n",
        "    # Save the Numpy array (.npy) on designated path\n",
        "    feature_path = \"<IMAGE FEATURE PATH HERE>.npy\"\n",
        "    np.save(feature_path, feature)"
      ],
      "execution_count": null,
      "outputs": []
    },
    {
      "cell_type": "markdown",
      "metadata": {
        "id": "1cxjOfPj6iQX"
      },
      "source": [
        "## Accept Image query and extract features"
      ]
    },
    {
      "cell_type": "code",
      "metadata": {
        "id": "QBGVkhQc6-hX"
      },
      "source": [
        "# Insert the image query\n",
        "img = Image.open(\"<IMAGE QUERY PATH HERE>\")\n",
        "# Extract its features\n",
        "query = fe.extract(img)"
      ],
      "execution_count": null,
      "outputs": []
    },
    {
      "cell_type": "markdown",
      "metadata": {
        "id": "WqoY1aIg7AuK"
      },
      "source": [
        "## Calculate Euclidean distances and obtain results\n"
      ]
    },
    {
      "cell_type": "code",
      "metadata": {
        "id": "YEICucMs7OxY"
      },
      "source": [
        "# Calculate the similarity (distance) between images\n",
        "dists = np.linalg.norm(features - query, axis=1)\n",
        "# Extract 30 images that have lowest distance\n",
        "ids = np.argsort(dists)[:30]\n",
        "scores = [(dists[id], img_paths[id]) for id in ids]"
      ],
      "execution_count": null,
      "outputs": []
    },
    {
      "cell_type": "markdown",
      "metadata": {
        "id": "NiBAECYY7Rwu"
      },
      "source": [
        "## Visulaize Results"
      ]
    },
    {
      "cell_type": "code",
      "metadata": {
        "id": "wHodRF5K7U6X"
      },
      "source": [
        "axes=[]\n",
        "fig=plt.figure(figsize=(8,8))\n",
        "for a in range(5*6):\n",
        "    score = scores[a]\n",
        "    axes.append(fig.add_subplot(5, 6, a+1))\n",
        "    subplot_title=str(score[0])\n",
        "    axes[-1].set_title(subplot_title)  \n",
        "    plt.axis('off')\n",
        "    plt.imshow(Image.open(score[1]))\n",
        "fig.tight_layout()\n",
        "plt.show()"
      ],
      "execution_count": null,
      "outputs": []
    }
  ]
}